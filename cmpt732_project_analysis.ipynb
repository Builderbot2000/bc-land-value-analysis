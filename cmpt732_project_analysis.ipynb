{
 "cells": [
  {
   "cell_type": "markdown",
   "metadata": {
    "displayMode": "maximized",
    "isLimitOn": true,
    "width": 12
   },
   "source": [
    "Initialize \"business_licenses\" table before data load"
   ]
  },
  {
   "cell_type": "code",
   "execution_count": 0,
   "metadata": {
    "displayMode": "maximized",
    "isLimitOn": true,
    "width": 12
   },
   "outputs": [],
   "source": [
    "CREATE TABLE IF NOT EXISTS \"business_licenses\" (\r\n",
    "    FOLDER_YEAR           INT NOT NULL,       -- Integer for year\r\n",
    "    STATUS                VARCHAR(255),       -- Status as text\r\n",
    "    ISSUED_DATE           VARCHAR(255),       -- Issued date as text (consider DATE if applicable)\r\n",
    "    BUSINESS_NAME         VARCHAR(255) NOT NULL, -- Business name as text\r\n",
    "    BUSINESS_TRADE_NAME   VARCHAR(255),       -- Business trade name as text\r\n",
    "    BUSINESS_TYPE         VARCHAR(255),       -- Business type as text\r\n",
    "    BUSINESS_SUBTYPE      VARCHAR(255),       -- Business subtype as text\r\n",
    "    POSTAL_CODE           VARCHAR(255) NOT NULL, -- Postal code as text\r\n",
    "    STREET_NAME           VARCHAR(255),       -- Street name as text\r\n",
    "    LOCAL_AREA            VARCHAR(255),       -- Local area as text\r\n",
    "    NUMBER_OF_EMPLOYEES   INT,                 -- Integer for the number of employees\r\n",
    "    PRIMARY KEY(POSTAL_CODE, BUSINESS_NAME)\r\n",
    ");"
   ]
  },
  {
   "cell_type": "markdown",
   "metadata": {
    "displayMode": "maximized",
    "isLimitOn": true,
    "width": 12
   },
   "source": [
    "Sample table to check of correctness"
   ]
  },
  {
   "cell_type": "code",
   "execution_count": 0,
   "metadata": {
    "displayMode": "maximized",
    "isLimitOn": true,
    "width": 12
   },
   "outputs": [],
   "source": [
    "SELECT * \r\n",
    "FROM business_licenses\r\n",
    "LIMIT 10;\r\n",
    "\r\n",
    "SELECT COUNT(*) AS total_entries\r\n",
    "FROM business_licenses;"
   ]
  },
  {
   "cell_type": "markdown",
   "metadata": {
    "displayMode": "maximized",
    "isLimitOn": true,
    "width": 12
   },
   "source": [
    "Initialize \"property_tax\" table before data load"
   ]
  },
  {
   "cell_type": "code",
   "execution_count": 0,
   "metadata": {
    "displayMode": "maximized",
    "isLimitOn": true,
    "width": 12
   },
   "outputs": [],
   "source": [
    "CREATE TABLE IF NOT EXISTS \"property_tax\" (\r\n",
    "    PID                     VARCHAR(255) NOT NULL,          -- Assuming PID is an identifier\r\n",
    "    LEGAL_TYPE              VARCHAR(255),          -- Assuming LEGAL_TYPE is categorical text\r\n",
    "    ZONING_DISTRICT         VARCHAR(255),          -- Text describing zoning district\r\n",
    "    ZONING_CLASSIFICATION   VARCHAR(255),          -- Text describing zoning classification\r\n",
    "    TO_CIVIC_NUMBER         VARCHAR(255),          -- Civic number, could be text or number\r\n",
    "    STREET_NAME             VARCHAR(255),          -- Street name as text\r\n",
    "    PROPERTY_POSTAL_CODE    VARCHAR(20) NOT NULL,  -- Postal code as text\r\n",
    "    CURRENT_LAND_VALUE      DECIMAL(18,2),         -- Monetary value, supports decimals\r\n",
    "    CURRENT_IMPROVEMENT_VALUE DECIMAL(18,2),       -- Monetary value, supports decimals\r\n",
    "    TAX_ASSESSMENT_YEAR     INT,                   -- Integer year\r\n",
    "    PREVIOUS_LAND_VALUE     DECIMAL(18,2),         -- Monetary value, supports decimals\r\n",
    "    PREVIOUS_IMPROVEMENT_VALUE DECIMAL(18,2),      -- Monetary value, supports decimals\r\n",
    "    YEAR_BUILT              INT,                   -- Year, integer\r\n",
    "    BIG_IMPROVEMENT_YEAR    INT,                   -- Year, integer\r\n",
    "    TAX_LEVY                DECIMAL(18,2),         -- Monetary value, supports decimals\r\n",
    "    NEIGHBOURHOOD_CODE      VARCHAR(255),          -- Text or code for neighborhood\r\n",
    "    REPORT_YEAR             INT NOT NULL,                    -- Year, integer\r\n",
    "    PRIMARY KEY(PROPERTY_POSTAL_CODE, PID)\r\n",
    ");"
   ]
  },
  {
   "cell_type": "markdown",
   "metadata": {
    "displayMode": "maximized",
    "isLimitOn": true,
    "width": 12
   },
   "source": [
    "Sample table to check for correctness"
   ]
  },
  {
   "cell_type": "code",
   "execution_count": 0,
   "metadata": {
    "displayMode": "maximized",
    "isLimitOn": true,
    "width": 12
   },
   "outputs": [],
   "source": [
    "SELECT * \r\n",
    "FROM property_tax\r\n",
    "LIMIT 10;\r\n",
    "\r\n",
    "SELECT COUNT(*) AS total_entries\r\n",
    "FROM property_tax;"
   ]
  },
  {
   "cell_type": "markdown",
   "metadata": {
    "displayMode": "maximized",
    "isLimitOn": true,
    "width": 12
   },
   "source": [
    "Create view grouped by postal code for \"business_licenses\""
   ]
  },
  {
   "cell_type": "code",
   "execution_count": 0,
   "metadata": {
    "displayMode": "maximized",
    "isLimitOn": true,
    "width": 12
   },
   "outputs": [],
   "source": [
    "DROP VIEW IF EXISTS business_size_by_postal_code CASCADE;\r\n",
    "\r\n",
    "CREATE VIEW business_size_by_postal_code AS\r\n",
    "SELECT \r\n",
    "    POSTAL_CODE,\r\n",
    "    FOLDER_YEAR,\r\n",
    "    STREET_NAME,\r\n",
    "    LOCAL_AREA,\r\n",
    "    SUM(NUMBER_OF_EMPLOYEES) AS TOTAL_EMPLOYEES,\r\n",
    "    COUNT(BUSINESS_NAME) AS TOTAL_BUSINESSES\r\n",
    "FROM \r\n",
    "    business_licenses\r\n",
    "GROUP BY \r\n",
    "    POSTAL_CODE, FOLDER_YEAR, STREET_NAME, LOCAL_AREA;\r\n",
    "\r\n",
    "SELECT *\r\n",
    "FROM business_size_by_postal_code\r\n",
    "LIMIT 10;\r\n",
    "\r\n",
    "SELECT COUNT(*) AS total_entries\r\n",
    "FROM business_size_by_postal_code;"
   ]
  },
  {
   "cell_type": "markdown",
   "metadata": {
    "displayMode": "maximized",
    "isLimitOn": true,
    "width": 12
   },
   "source": [
    "Create view grouped by postal code for \"property_tax\""
   ]
  },
  {
   "cell_type": "code",
   "execution_count": 0,
   "metadata": {
    "displayMode": "maximized",
    "isLimitOn": true,
    "width": 12
   },
   "outputs": [],
   "source": [
    "DROP VIEW IF EXISTS property_aggregated_by_postal_code CASCADE;\r\n",
    "\r\n",
    "CREATE OR REPLACE VIEW property_aggregated_by_postal_code AS\r\n",
    "SELECT \r\n",
    "    PROPERTY_POSTAL_CODE AS POSTAL_CODE,\r\n",
    "    REPORT_YEAR,\r\n",
    "    ZONING_CLASSIFICATION,\r\n",
    "    STREET_NAME,\r\n",
    "    SUM(PREVIOUS_LAND_VALUE) AS TOTAL_PREVIOUS_LAND_VALUE,\r\n",
    "    SUM(CURRENT_LAND_VALUE) AS TOTAL_CURRENT_LAND_VALUE,\r\n",
    "    SUM(PREVIOUS_IMPROVEMENT_VALUE) AS TOTAL_PREVIOUS_IMPROVEMENT_VALUE,\r\n",
    "    SUM(CURRENT_IMPROVEMENT_VALUE) AS TOTAL_CURRENT_IMPROVEMENT_VALUE\r\n",
    "FROM \r\n",
    "    property_tax\r\n",
    "GROUP BY \r\n",
    "    PROPERTY_POSTAL_CODE, REPORT_YEAR, ZONING_CLASSIFICATION, STREET_NAME;\r\n",
    "\r\n",
    "SELECT *\r\n",
    "FROM property_aggregated_by_postal_code\r\n",
    "LIMIT 10;\r\n",
    "\r\n",
    "SELECT COUNT(*) AS total_entries\r\n",
    "FROM property_aggregated_by_postal_code;"
   ]
  },
  {
   "cell_type": "markdown",
   "metadata": {
    "displayMode": "maximized",
    "isLimitOn": true,
    "width": 12
   },
   "source": [
    "Join the two views by postal code"
   ]
  },
  {
   "cell_type": "code",
   "execution_count": 0,
   "metadata": {
    "displayMode": "maximized",
    "isLimitOn": true,
    "width": 12
   },
   "outputs": [],
   "source": [
    "DROP VIEW IF EXISTS combined_by_postal_code CASCADE;\r\n",
    "\r\n",
    "CREATE OR REPLACE VIEW combined_by_postal_code AS\r\n",
    "SELECT \r\n",
    "    b.POSTAL_CODE,\r\n",
    "    p.REPORT_YEAR AS YEAR,\r\n",
    "    b.LOCAL_AREA,\r\n",
    "    b.TOTAL_EMPLOYEES,\r\n",
    "    b.TOTAL_BUSINESSES,\r\n",
    "    p.ZONING_CLASSIFICATION,\r\n",
    "    p.STREET_NAME,\r\n",
    "    p.TOTAL_PREVIOUS_LAND_VALUE,\r\n",
    "    p.TOTAL_CURRENT_LAND_VALUE,\r\n",
    "    p.TOTAL_PREVIOUS_IMPROVEMENT_VALUE,\r\n",
    "    p.TOTAL_CURRENT_IMPROVEMENT_VALUE\r\n",
    "FROM \r\n",
    "    business_size_by_postal_code b\r\n",
    "JOIN \r\n",
    "    property_aggregated_by_postal_code p\r\n",
    "ON \r\n",
    "    b.POSTAL_CODE = p.POSTAL_CODE\r\n",
    "    AND (CAST(b.FOLDER_YEAR AS INT) + 2000 = p.REPORT_YEAR); -- Convert format like '16' to '2016'\r\n",
    "\r\n",
    "SELECT *\r\n",
    "FROM combined_by_postal_code\r\n",
    "WHERE total_employees > 0\r\n",
    "LIMIT 10;\r\n",
    "\r\n",
    "SELECT COUNT(*) AS total_entries\r\n",
    "FROM combined_by_postal_code;"
   ]
  },
  {
   "cell_type": "markdown",
   "metadata": {
    "displayMode": "maximized",
    "isLimitOn": true,
    "width": 12
   },
   "source": [
    "Display series of yearly commercial investment data and land value changes in subsequent years"
   ]
  },
  {
   "cell_type": "code",
   "execution_count": 0,
   "metadata": {
    "displayMode": "maximized",
    "isLimitOn": true,
    "width": 12
   },
   "outputs": [],
   "source": [
    "DROP VIEW IF EXISTS investment_land_value_followup CASCADE;\r\n",
    "\r\n",
    "CREATE OR REPLACE VIEW investment_land_value_followup AS\r\n",
    "WITH investment_and_land_values AS (\r\n",
    "    SELECT *\r\n",
    "    FROM \r\n",
    "        combined_by_postal_code\r\n",
    ")\r\n",
    "SELECT \r\n",
    "    i.LOCAL_AREA,\r\n",
    "    i.POSTAL_CODE,\r\n",
    "    i.YEAR AS INVESTMENT_YEAR,\r\n",
    "    i.TOTAL_BUSINESSES AS BUSINESSES_COUNT,\r\n",
    "    i.TOTAL_EMPLOYEES AS EMPLOYEES_COUNT,\r\n",
    "    i.TOTAL_CURRENT_LAND_VALUE AS LAND_VALUE_IN_INVESTMENT_YEAR,\r\n",
    "    f.YEAR AS FOLLOWUP_YEAR,\r\n",
    "    f.TOTAL_CURRENT_LAND_VALUE AS LAND_VALUE_IN_FOLLOWUP_YEAR\r\n",
    "FROM \r\n",
    "    investment_and_land_values i\r\n",
    "JOIN \r\n",
    "    investment_and_land_values f \r\n",
    "    ON i.POSTAL_CODE = f.POSTAL_CODE\r\n",
    "    AND f.YEAR > i.YEAR -- To track future years\r\n",
    "    AND f.YEAR <= i.YEAR + 5 -- Adjust to however many years you want to follow up (e.g., 5 years)\r\n",
    "ORDER BY \r\n",
    "    i.LOCAL_AREA, i.POSTAL_CODE, i.YEAR, f.YEAR;\r\n",
    "\r\n",
    "SELECT *\r\n",
    "FROM investment_land_value_followup\r\n",
    "LIMIT 10;\r\n",
    "\r\n",
    "SELECT COUNT(*) AS total_entries\r\n",
    "FROM investment_land_value_followup;"
   ]
  },
  {
   "cell_type": "markdown",
   "metadata": {
    "displayMode": "maximized",
    "isLimitOn": true,
    "width": 12
   },
   "source": [
    "Group investment and followup data by region"
   ]
  },
  {
   "cell_type": "code",
   "execution_count": 0,
   "metadata": {
    "displayMode": "maximized",
    "isLimitOn": true,
    "width": 12
   },
   "outputs": [],
   "source": [
    "DROP VIEW IF EXISTS grouped_investment_land_value_followup CASCADE;\r\n",
    "\r\n",
    "CREATE OR REPLACE VIEW grouped_investment_land_value_followup AS\r\n",
    "WITH investment_and_land_values AS (\r\n",
    "    SELECT *\r\n",
    "    FROM \r\n",
    "        combined_by_postal_code\r\n",
    "),\r\n",
    "detailed_view AS (\r\n",
    "    SELECT \r\n",
    "        i.LOCAL_AREA,\r\n",
    "        i.YEAR AS INVESTMENT_YEAR,\r\n",
    "        f.YEAR AS FOLLOWUP_YEAR,\r\n",
    "        i.TOTAL_BUSINESSES AS BUSINESSES_COUNT,\r\n",
    "        i.TOTAL_EMPLOYEES AS EMPLOYEES_COUNT,\r\n",
    "        i.TOTAL_CURRENT_LAND_VALUE AS LAND_VALUE_IN_INVESTMENT_YEAR,\r\n",
    "        f.TOTAL_CURRENT_LAND_VALUE AS LAND_VALUE_IN_FOLLOWUP_YEAR\r\n",
    "    FROM \r\n",
    "        investment_and_land_values i\r\n",
    "    JOIN \r\n",
    "        investment_and_land_values f \r\n",
    "        ON i.POSTAL_CODE = f.POSTAL_CODE\r\n",
    "        AND f.YEAR > i.YEAR -- To track future years\r\n",
    "        AND f.YEAR <= i.YEAR + 5 -- Adjust to however many years you want to follow up (e.g., 5 years)\r\n",
    ")\r\n",
    "SELECT \r\n",
    "    LOCAL_AREA,\r\n",
    "    INVESTMENT_YEAR,\r\n",
    "    FOLLOWUP_YEAR,\r\n",
    "    SUM(BUSINESSES_COUNT) AS TOTAL_BUSINESSES,\r\n",
    "    SUM(EMPLOYEES_COUNT) AS TOTAL_EMPLOYEES,\r\n",
    "    SUM(LAND_VALUE_IN_INVESTMENT_YEAR) AS TOTAL_LAND_VALUE_IN_INVESTMENT_YEAR,\r\n",
    "    SUM(LAND_VALUE_IN_FOLLOWUP_YEAR) AS TOTAL_LAND_VALUE_IN_FOLLOWUP_YEAR,\r\n",
    "    CASE\r\n",
    "        WHEN SUM(LAND_VALUE_IN_INVESTMENT_YEAR) = 0 THEN NULL -- Handle division by zero\r\n",
    "        ELSE ROUND(\r\n",
    "            (SUM(LAND_VALUE_IN_FOLLOWUP_YEAR) - SUM(LAND_VALUE_IN_INVESTMENT_YEAR)) * 100.0 \r\n",
    "            / SUM(LAND_VALUE_IN_INVESTMENT_YEAR), \r\n",
    "            2\r\n",
    "        )\r\n",
    "    END AS PERCENT_CHANGE_IN_LAND_VALUE\r\n",
    "FROM \r\n",
    "    detailed_view\r\n",
    "GROUP BY \r\n",
    "    LOCAL_AREA, INVESTMENT_YEAR, FOLLOWUP_YEAR\r\n",
    "ORDER BY \r\n",
    "    LOCAL_AREA, INVESTMENT_YEAR, FOLLOWUP_YEAR;\r\n",
    "\r\n",
    "SELECT *\r\n",
    "FROM grouped_investment_land_value_followup;\r\n",
    "\r\n",
    "SELECT COUNT(*) AS total_entries\r\n",
    "FROM grouped_investment_land_value_followup;"
   ]
  }
 ],
 "metadata": {
  "kernelspec": {
   "display_name": "Python 3 (ipykernel)",
   "language": "python",
   "name": "python3"
  },
  "language_info": {
   "codemirror_mode": {
    "name": "ipython",
    "version": 3
   },
   "file_extension": ".py",
   "mimetype": "text/x-python",
   "name": "python",
   "nbconvert_exporter": "python",
   "pygments_lexer": "ipython3",
   "version": "3.11.10"
  },
  "title": "cmpt732_project_analysis",
  "version": 1
 },
 "nbformat": 4,
 "nbformat_minor": 0
}
